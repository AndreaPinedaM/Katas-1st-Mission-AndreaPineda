{
 "cells": [
  {
   "cell_type": "code",
   "execution_count": 6,
   "metadata": {},
   "outputs": [],
   "source": [
    "# Crear variables para almacenar las dos distancias\n",
    "Tierra=int('149597870')\n",
    "Jupiter=int('778547200')"
   ]
  },
  {
   "cell_type": "code",
   "execution_count": 12,
   "metadata": {},
   "outputs": [
    {
     "name": "stdout",
     "output_type": "stream",
     "text": [
      "628949330\n",
      "390577534\n"
     ]
    }
   ],
   "source": [
    "#Calcular la distancia entre planetas \n",
    "distance=abs(Tierra-Jupiter)\n",
    "print(distance)\n",
    "print(round(distance*0.621))"
   ]
  },
  {
   "cell_type": "code",
   "execution_count": 22,
   "metadata": {},
   "outputs": [],
   "source": [
    "# Almacenar las entradas del usuario\n",
    "planet1=input(\"Ingresa la distancia al Sol del planeta 1:\")\n",
    "planet2=input(\"Ingresa la distancia al Sol del planeta 2:\")"
   ]
  },
  {
   "cell_type": "code",
   "execution_count": 23,
   "metadata": {},
   "outputs": [
    {
     "name": "stdout",
     "output_type": "stream",
     "text": [
      "2872500000\n",
      "1433500000\n"
     ]
    }
   ],
   "source": [
    "# Conviertir las cadenas de ambos planetas a números enteros\n",
    "distance1=int(planet1)\n",
    "distance2=int(planet2)\n",
    "print(distance1)\n",
    "print(distance2)"
   ]
  },
  {
   "cell_type": "code",
   "execution_count": 24,
   "metadata": {},
   "outputs": [
    {
     "name": "stdout",
     "output_type": "stream",
     "text": [
      "1439000000\n",
      "893619000\n"
     ]
    }
   ],
   "source": [
    "# Realizar el cálculo y determinar el valor absoluto\n",
    "distance_=abs(distance2-distance1)\n",
    "print(distance_)\n",
    "\n",
    "#Convertir km a millas \n",
    "print(round(distance_*0.621))"
   ]
  }
 ],
 "metadata": {
  "interpreter": {
   "hash": "229bb95d710c664f65a2ec21e7e4c48449d0eab8647f47b225ef9e0205fbfacb"
  },
  "kernelspec": {
   "display_name": "Python 3.10.2 64-bit",
   "language": "python",
   "name": "python3"
  },
  "language_info": {
   "codemirror_mode": {
    "name": "ipython",
    "version": 3
   },
   "file_extension": ".py",
   "mimetype": "text/x-python",
   "name": "python",
   "nbconvert_exporter": "python",
   "pygments_lexer": "ipython3",
   "version": "3.10.2"
  },
  "orig_nbformat": 4
 },
 "nbformat": 4,
 "nbformat_minor": 2
}
