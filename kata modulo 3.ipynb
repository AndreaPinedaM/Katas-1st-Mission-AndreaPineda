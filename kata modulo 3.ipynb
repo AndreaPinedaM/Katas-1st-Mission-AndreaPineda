{
 "cells": [
  {
   "cell_type": "code",
   "execution_count": 11,
   "metadata": {},
   "outputs": [
    {
     "name": "stdout",
     "output_type": "stream",
     "text": [
      "¡Advertencia! Un asteroide chocará con la tierra a una velocidad de 49 km/h\n"
     ]
    }
   ],
   "source": [
    "asteroide1= 49\n",
    "if asteroide1>=25:\n",
    "    print(\"¡Advertencia! Un asteroide chocará con la tierra a una velocidad de \"+str(asteroide1)+\" km/h\")"
   ]
  },
  {
   "cell_type": "code",
   "execution_count": 15,
   "metadata": {},
   "outputs": [
    {
     "name": "stdout",
     "output_type": "stream",
     "text": [
      "No hay nada que ver en el cielo\n"
     ]
    }
   ],
   "source": [
    "asteroide2=19\n",
    "if asteroide2>=25:\n",
    "    print(\"¡Advertencia! Un asteroide chocará con la tierra a una velocidad de \"+str(asteroide1)+\" km/h\")\n",
    "elif asteroide2>=20:\n",
    "    print(\"Busca un rayo de luz en el cielo proveniente de un asteroide cercano a la tierra\")\n",
    "    print(\"Se acerca a una velocidad de \"+str(asteroide2)+\" km/h\")\n",
    "elif asteroide2<20:\n",
    "    print(\"No hay nada que ver en el cielo\")"
   ]
  },
  {
   "cell_type": "code",
   "execution_count": 21,
   "metadata": {},
   "outputs": [
    {
     "name": "stdout",
     "output_type": "stream",
     "text": [
      "No hay de que preocuparse\n"
     ]
    }
   ],
   "source": [
    "velocidad=18\n",
    "tamano=19\n",
    "if tamano<=25 and velocidad<25:\n",
    "    print(\"No hay de que preocuparse\")\n",
    "    if velocidad>=20:\n",
    "        print(\"¡Busca un rayo de luz en el cielo!, Hay un asteroide que se dirige a la tierra a una velocidad de \"+str(velocidad)+\" km/h\")\n",
    "elif tamano>=25 or tamano<=1000:\n",
    "    if velocidad>25:\n",
    "        print(\"¡Advertencia, un asteroide peligra con impactar la tierra! de tamaño \"+str(tamano)+\" y velocidad \"+str(velocidad))\n",
    "else:\n",
    "    print(\"Sigue con tu dia\")"
   ]
  }
 ],
 "metadata": {
  "interpreter": {
   "hash": "229bb95d710c664f65a2ec21e7e4c48449d0eab8647f47b225ef9e0205fbfacb"
  },
  "kernelspec": {
   "display_name": "Python 3.10.2 64-bit",
   "language": "python",
   "name": "python3"
  },
  "language_info": {
   "codemirror_mode": {
    "name": "ipython",
    "version": 3
   },
   "file_extension": ".py",
   "mimetype": "text/x-python",
   "name": "python",
   "nbconvert_exporter": "python",
   "pygments_lexer": "ipython3",
   "version": "3.10.2"
  },
  "orig_nbformat": 4
 },
 "nbformat": 4,
 "nbformat_minor": 2
}
