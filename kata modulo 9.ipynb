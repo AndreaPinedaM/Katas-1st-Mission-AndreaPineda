{
 "cells": [
  {
   "cell_type": "markdown",
   "metadata": {},
   "source": [
    "Ejercicio 1"
   ]
  },
  {
   "cell_type": "code",
   "execution_count": 54,
   "metadata": {},
   "outputs": [],
   "source": [
    "# Función para leer 3 tanques de combustible \n",
    "def tanks_report(tank1,tank2,tank3):\n",
    "    average=(tank1+tank2+tank3)/3\n",
    "    return f\"\"\"REPORT\n",
    "    Average: {average}%\n",
    "    Main Tank: {tank1}%\n",
    "    External Tank: {tank2}%\n",
    "    Hydrogen Tank:{tank3}%\n",
    "    \"\"\""
   ]
  },
  {
   "cell_type": "code",
   "execution_count": 55,
   "metadata": {},
   "outputs": [
    {
     "name": "stdout",
     "output_type": "stream",
     "text": [
      "REPORT\n",
      "    Average: 55.0%\n",
      "    Main Tank: 50%\n",
      "    External Tank: 70%\n",
      "    Hydrogen Tank:45%\n",
      "    \n"
     ]
    }
   ],
   "source": [
    "# Llamamos a la función que genera el reporte\n",
    "print(tanks_report(50,70,45))"
   ]
  },
  {
   "cell_type": "code",
   "execution_count": 57,
   "metadata": {},
   "outputs": [
    {
     "data": {
      "text/plain": [
       "'Average: 55.0'"
      ]
     },
     "execution_count": 57,
     "metadata": {},
     "output_type": "execute_result"
    }
   ],
   "source": [
    "#Funcion promedio\n",
    "def average_function(values):\n",
    "    total=sum(values)\n",
    "    items=len(values)\n",
    "    return f\"Average: {total/items}\"\n",
    "\n",
    "\n",
    "average_function([50,70,45])"
   ]
  },
  {
   "cell_type": "code",
   "execution_count": 59,
   "metadata": {},
   "outputs": [
    {
     "name": "stdout",
     "output_type": "stream",
     "text": [
      "REPORT\n",
      "    Average: Average: 76.66666666666667%\n",
      "    Main Tank: 55%\n",
      "    External Tank: 80%\n",
      "    Hydrogen Tank:95%\n",
      "    \n"
     ]
    }
   ],
   "source": [
    "# Función actualizada\n",
    "def tanks_report(tank1,tank2,tank3):\n",
    "    return f\"\"\"REPORT\n",
    "    Average: {average_function([tank1,tank2,tank3])}%\n",
    "    Main Tank: {tank1}%\n",
    "    External Tank: {tank2}%\n",
    "    Hydrogen Tank:{tank3}%\n",
    "    \"\"\"\n",
    "print(tanks_report(55,80,95))"
   ]
  },
  {
   "cell_type": "markdown",
   "metadata": {},
   "source": [
    "Ejercicio 2"
   ]
  },
  {
   "cell_type": "code",
   "execution_count": 6,
   "metadata": {},
   "outputs": [
    {
     "name": "stdout",
     "output_type": "stream",
     "text": [
      "MISION REPORT\n",
      "    Travel Time: 30 minutes\n",
      "    Fuel: 57%\n",
      "    Destination: Saturn\n",
      "    \n"
     ]
    }
   ],
   "source": [
    "def mision(pre_launch,fly_time,ext_tank,int_tank,destination):\n",
    "    return f\"\"\"MISION REPORT\n",
    "    Travel Time: {pre_launch+fly_time} minutes\n",
    "    Fuel: {ext_tank+int_tank}%\n",
    "    Destination: {destination}\n",
    "    \"\"\"\n",
    "    \n",
    "print(mision(10,20,45,12,'Saturn'))"
   ]
  },
  {
   "cell_type": "code",
   "execution_count": 30,
   "metadata": {},
   "outputs": [
    {
     "name": "stdout",
     "output_type": "stream",
     "text": [
      "Destination: Venus\n",
      "    Travel time: 38 minutes\n",
      "    Fuel: 34100\n",
      "    \n"
     ]
    }
   ],
   "source": [
    "def mision(dest, *minutes, **fuel):\n",
    "    return f\"\"\"Destination: {dest}\n",
    "    Travel time: {sum(minutes)} minutes\n",
    "    Fuel: {sum(fuel.values())}\n",
    "    \"\"\"\n",
    "\n",
    "print(mision(\"Venus\",10,5,19,4, int_tank=2000,ext_tank=32100))"
   ]
  },
  {
   "cell_type": "code",
   "execution_count": 46,
   "metadata": {},
   "outputs": [
    {
     "name": "stdout",
     "output_type": "stream",
     "text": [
      "\n",
      "    Destination: Venus\n",
      "    Total travel time: 89 minutes\n",
      "    Fuel left: 500900\n",
      "    Main tank --> 300000 gallons left\n",
      "External tank --> 200000 gallons left\n",
      "Emergency tank --> 900 gallons left\n",
      "\n"
     ]
    }
   ],
   "source": [
    "# Nueva función\n",
    "\n",
    "def mission(dest, *minutes, **fuel):\n",
    "    main_report = f\"\"\"\n",
    "    Destination: {dest}\n",
    "    Total travel time: {sum(minutes)} minutes\n",
    "    Fuel left: {sum(fuel.values())}\n",
    "    \"\"\"\n",
    "    for tank_name, gallons in fuel.items():\n",
    "        main_report += f\"{tank_name} tank --> {gallons} gallons left\\n\"\n",
    "    return main_report\n",
    "\n",
    "print(mission(\"Venus\", 10, 5, 19, 55, Main=300000, External=200000, Emergency=900))"
   ]
  }
 ],
 "metadata": {
  "interpreter": {
   "hash": "229bb95d710c664f65a2ec21e7e4c48449d0eab8647f47b225ef9e0205fbfacb"
  },
  "kernelspec": {
   "display_name": "Python 3.10.2 64-bit",
   "language": "python",
   "name": "python3"
  },
  "language_info": {
   "codemirror_mode": {
    "name": "ipython",
    "version": 3
   },
   "file_extension": ".py",
   "mimetype": "text/x-python",
   "name": "python",
   "nbconvert_exporter": "python",
   "pygments_lexer": "ipython3",
   "version": "3.10.2"
  },
  "orig_nbformat": 4
 },
 "nbformat": 4,
 "nbformat_minor": 2
}
