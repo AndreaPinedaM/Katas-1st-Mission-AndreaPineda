{
 "cells": [
  {
   "cell_type": "markdown",
   "metadata": {},
   "source": [
    "Ejercicio 1"
   ]
  },
  {
   "cell_type": "code",
   "execution_count": 1,
   "metadata": {},
   "outputs": [],
   "source": [
    "#Crear un diccionario llamado planet\n",
    "planet= {\n",
    "    'name': 'Mars',\n",
    "    'moons': 2\n",
    "}"
   ]
  },
  {
   "cell_type": "code",
   "execution_count": 4,
   "metadata": {},
   "outputs": [
    {
     "name": "stdout",
     "output_type": "stream",
     "text": [
      "Name planet:  Mars\n",
      "Number of moons:  2\n"
     ]
    }
   ],
   "source": [
    "#Mostrar el nombre del planeta y antdad de lunas \n",
    "print('Name planet: ',planet['name'])\n",
    "print('Number of moons: ',planet['moons'])"
   ]
  },
  {
   "cell_type": "code",
   "execution_count": 37,
   "metadata": {},
   "outputs": [
    {
     "name": "stdout",
     "output_type": "stream",
     "text": [
      "Planeta:  Mars \n",
      "Circunferencia polar(km):  6752\n"
     ]
    }
   ],
   "source": [
    "#Agrega circunferencia \n",
    "planet['circunferencia']={\n",
    "    'polar': 6752,\n",
    "    'equatorial': 6792\n",
    "    }\n",
    "# Imprimir el nombre del planeta con su circunferencia polar.\n",
    "print('Planeta: ',planet['name'],'\\nCircunferencia polar(km): ',planet['circunferencia']['polar'])"
   ]
  },
  {
   "cell_type": "markdown",
   "metadata": {},
   "source": [
    "Ejercicio 2 "
   ]
  },
  {
   "cell_type": "code",
   "execution_count": 22,
   "metadata": {},
   "outputs": [],
   "source": [
    "planet_moons = {\n",
    "    'mercury': 0,\n",
    "    'venus': 0,\n",
    "    'earth': 1,\n",
    "    'mars': 2,\n",
    "    'jupiter': 79,\n",
    "    'saturn': 82,\n",
    "    'uranus': 27,\n",
    "    'neptune': 14,\n",
    "    'pluto': 5,\n",
    "    'haumea': 2,\n",
    "    'makemake': 1,\n",
    "    'eris': 1\n",
    "}"
   ]
  },
  {
   "cell_type": "code",
   "execution_count": 44,
   "metadata": {},
   "outputs": [
    {
     "name": "stdout",
     "output_type": "stream",
     "text": [
      "12\n"
     ]
    }
   ],
   "source": [
    "# Almacenamos los resultados en una variable moons\n",
    "moons=planet_moons.values()\n",
    "planets=len(planet_moons.keys())\n",
    "print(planets)"
   ]
  },
  {
   "cell_type": "code",
   "execution_count": 41,
   "metadata": {},
   "outputs": [
    {
     "name": "stdout",
     "output_type": "stream",
     "text": [
      "Hay un total de 214 lunas en nuestro Sistema Solar\n",
      "El promedio de lunas por planeta es de: 17.833333333333332\n"
     ]
    }
   ],
   "source": [
    "#Detrminar el numero de lunas \n",
    "total_moons=0\n",
    "for moon in planet_moons.values():\n",
    "    total_moons=total_moons+moon\n",
    "\n",
    "print(f'Hay un total de {total_moons} lunas en nuestro Sistema Solar' )\n",
    "print(f'El promedio de lunas por planeta es de: {total_moons/planets}')"
   ]
  }
 ],
 "metadata": {
  "interpreter": {
   "hash": "229bb95d710c664f65a2ec21e7e4c48449d0eab8647f47b225ef9e0205fbfacb"
  },
  "kernelspec": {
   "display_name": "Python 3.10.2 64-bit",
   "language": "python",
   "name": "python3"
  },
  "language_info": {
   "codemirror_mode": {
    "name": "ipython",
    "version": 3
   },
   "file_extension": ".py",
   "mimetype": "text/x-python",
   "name": "python",
   "nbconvert_exporter": "python",
   "pygments_lexer": "ipython3",
   "version": "3.10.2"
  },
  "orig_nbformat": 4
 },
 "nbformat": 4,
 "nbformat_minor": 2
}
